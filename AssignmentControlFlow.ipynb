{
 "cells": [
  {
   "cell_type": "markdown",
   "id": "3f7114e0",
   "metadata": {},
   "source": [
    "# 1. Write a Python program to check if a given number is positive or negative."
   ]
  },
  {
   "cell_type": "code",
   "execution_count": 1,
   "id": "eecaa6ec",
   "metadata": {},
   "outputs": [
    {
     "name": "stdout",
     "output_type": "stream",
     "text": [
      "Enter a number: 55\n",
      "The number is positive.\n"
     ]
    }
   ],
   "source": [
    "n = int(input(\"Enter a number: \"))\n",
    "\n",
    "if n > 0:\n",
    "    print(\"The number is positive.\")\n",
    "elif n < 0:\n",
    "    print(\"The number is negative.\")\n",
    "else:\n",
    "    print(\"The number is zero.\")\n",
    "\n"
   ]
  },
  {
   "cell_type": "markdown",
   "id": "ca334cb3",
   "metadata": {},
   "source": [
    "This Python program takes a user-inputted number, checks if it's positive, negative, or zero, and prints the corresponding message. It uses if, elif, and else statements for this purpose."
   ]
  },
  {
   "cell_type": "markdown",
   "id": "d7ab15d7",
   "metadata": {},
   "source": [
    "# 2. Create a program that determines if a person is eligible to vote based on their age."
   ]
  },
  {
   "cell_type": "code",
   "execution_count": 3,
   "id": "b10e1112",
   "metadata": {},
   "outputs": [
    {
     "name": "stdout",
     "output_type": "stream",
     "text": [
      "Enter your age: 21\n",
      "You are eligible to vote.\n"
     ]
    }
   ],
   "source": [
    "# Get the person's age from user input\n",
    "age = int(input(\"Enter your age: \"))\n",
    "\n",
    "# Check if the person is eligible to vote\n",
    "if age >= 18:\n",
    "    print(\"You are eligible to vote.\")\n",
    "else:\n",
    "    print(\"You are not eligible to vote yet.\")\n"
   ]
  },
  {
   "cell_type": "markdown",
   "id": "15012fb9",
   "metadata": {},
   "source": [
    "\n",
    "This Python program takes the user's age as input and determines if they are eligible to vote (age 18 or older). If eligible, it prints \"You are eligible to vote,\" otherwise, it prints \"You are not eligible to vote yet.\""
   ]
  },
  {
   "cell_type": "markdown",
   "id": "823a43de",
   "metadata": {},
   "source": [
    "# 3. Develop a program to find the maximum of two numbers using if-else statements."
   ]
  },
  {
   "cell_type": "code",
   "execution_count": 22,
   "id": "cc52bf7b",
   "metadata": {},
   "outputs": [
    {
     "name": "stdout",
     "output_type": "stream",
     "text": [
      "Enter the first number: 5\n",
      "Enter the second number: 7\n",
      "The maximum number is: 7.0\n"
     ]
    }
   ],
   "source": [
    "# Get two numbers from user input\n",
    "num1= float(input(\"Enter the first number: \"))\n",
    "num2= float(input(\"Enter the second number: \"))\n",
    "\n",
    "# Compare the numbers to find the maximum\n",
    "if num1 > num2:\n",
    "    print(\"The maximum number is:\", num1)\n",
    "else:\n",
    "    print(\"The maximum number is:\", num2)\n"
   ]
  },
  {
   "cell_type": "markdown",
   "id": "5d7207f1",
   "metadata": {},
   "source": [
    "This Python program takes two numbers as input and uses an if-else statement to determine and print the maximum of the two numbers."
   ]
  },
  {
   "cell_type": "markdown",
   "id": "55f4893e",
   "metadata": {},
   "source": [
    "# 4. Write a Python script to classify a given year as a leap year or not."
   ]
  },
  {
   "cell_type": "code",
   "execution_count": 1,
   "id": "35f3c96f",
   "metadata": {},
   "outputs": [
    {
     "name": "stdout",
     "output_type": "stream",
     "text": [
      "Enter a year: 2005\n",
      "2005 is not a leap year.\n"
     ]
    }
   ],
   "source": [
    "year = int(input(\"Enter a year: \"))\n",
    "\n",
    "leap_year = (year % 4 == 0) and ((year % 100 != 0) or (year % 400 == 0))\n",
    "\n",
    "if leap_year:\n",
    "    print(f\"{year} is a leap year.\")\n",
    "else:\n",
    "    print(f\"{year} is not a leap year.\")\n"
   ]
  },
  {
   "cell_type": "markdown",
   "id": "81d41f6f",
   "metadata": {},
   "source": [
    "This Python script takes a user input for a year, evaluates whether it's a leap year using concise conditions, and then prints the result. The leap year conditions are: the year must be divisible by 4, not divisible by 100 unless divisible by 400. The script outputs whether the entered year is a leap year or not accordingly."
   ]
  },
  {
   "cell_type": "markdown",
   "id": "04bc78a8",
   "metadata": {},
   "source": [
    "# 5. Create a program that checks whether a character is a vowel or a consonant."
   ]
  },
  {
   "cell_type": "code",
   "execution_count": 2,
   "id": "55358eb9",
   "metadata": {},
   "outputs": [
    {
     "name": "stdout",
     "output_type": "stream",
     "text": [
      "Enter a character: g\n",
      "g is a consonant.\n"
     ]
    }
   ],
   "source": [
    "char = input(\"Enter a character: \")\n",
    "\n",
    "if char.isalpha() and len(char) == 1:\n",
    "    if char.lower() in ['a', 'e', 'i', 'o', 'u']:\n",
    "        print(f\"{char} is a vowel.\")\n",
    "    else:\n",
    "        print(f\"{char} is a consonant.\")\n",
    "else:\n",
    "    print(\"Please enter a valid single character.\")\n"
   ]
  },
  {
   "cell_type": "markdown",
   "id": "c66c3af1",
   "metadata": {},
   "source": [
    "\n",
    "This Python program takes user input for a character, checks if it is a valid single alphabet character, and then determines if it is a vowel or a consonant. The result is then printed based on the character's classification."
   ]
  },
  {
   "cell_type": "markdown",
   "id": "f05dfaca",
   "metadata": {},
   "source": [
    "# 6. Implement a program to determine whether a given number is even or odd."
   ]
  },
  {
   "cell_type": "code",
   "execution_count": 9,
   "id": "8df3868d",
   "metadata": {},
   "outputs": [
    {
     "name": "stdout",
     "output_type": "stream",
     "text": [
      "Enter a number: 66\n",
      "66 is an even number.\n"
     ]
    }
   ],
   "source": [
    "number = int(input(\"Enter a number: \"))\n",
    "\n",
    "if number % 2 == 0:\n",
    "    print(f\"{number} is an even number.\")\n",
    "else:\n",
    "    print(f\"{number} is an odd number.\")\n"
   ]
  },
  {
   "cell_type": "markdown",
   "id": "c33318a6",
   "metadata": {},
   "source": [
    "\n",
    "This Python program takes user input for a number and determines whether it's even or odd. It checks if the number is divisible by 2 and prints the corresponding result."
   ]
  },
  {
   "cell_type": "markdown",
   "id": "90352955",
   "metadata": {},
   "source": [
    "# 7. Write a Python function to calculate the absolute value of a number without using the `abs()` function."
   ]
  },
  {
   "cell_type": "code",
   "execution_count": 10,
   "id": "abddbed1",
   "metadata": {},
   "outputs": [
    {
     "name": "stdout",
     "output_type": "stream",
     "text": [
      "Enter a number: 45\n",
      "The absolute value of 45.0 is 45.0.\n"
     ]
    }
   ],
   "source": [
    "def absolute_value(num):\n",
    "    return num if num >= 0 else -num\n",
    "\n",
    "# Example usage:\n",
    "number = float(input(\"Enter a number: \"))\n",
    "result = absolute_value(number)\n",
    "print(f\"The absolute value of {number} is {result}.\")\n"
   ]
  },
  {
   "cell_type": "markdown",
   "id": "cb1b6108",
   "metadata": {},
   "source": [
    "The Python function absolute_value calculates the absolute value of a number without using the abs() function. It returns the number if it's non-negative, and otherwise returns its negation."
   ]
  },
  {
   "cell_type": "markdown",
   "id": "c9015e6d",
   "metadata": {},
   "source": [
    "# 8. Develop a program that determines the largest of three given numbers using if-else statements."
   ]
  },
  {
   "cell_type": "code",
   "execution_count": 12,
   "id": "27c38a13",
   "metadata": {},
   "outputs": [
    {
     "name": "stdout",
     "output_type": "stream",
     "text": [
      "Enter the first number: 7\n",
      "Enter the second number: 8\n",
      "Enter the third number: 9\n",
      "The largest number is: 9.0\n"
     ]
    }
   ],
   "source": [
    "# Taking user input for three numbers\n",
    "num1 = float(input(\"Enter the first number: \"))\n",
    "num2 = float(input(\"Enter the second number: \"))\n",
    "num3 = float(input(\"Enter the third number: \"))\n",
    "\n",
    "# Using if-else statements to find the largest number\n",
    "if num1 >= num2 and num1 >= num3:\n",
    "    largest = num1\n",
    "elif num2 >= num1 and num2 >= num3:\n",
    "    largest = num2\n",
    "else:\n",
    "    largest = num3\n",
    "\n",
    "# Printing the result\n",
    "print(f\"The largest number is: {largest}\")\n"
   ]
  },
  {
   "cell_type": "markdown",
   "id": "b7ab5719",
   "metadata": {},
   "source": [
    "This Python program takes three user-input numbers and uses if-else statements to determine the largest among them. The result is then printed."
   ]
  },
  {
   "cell_type": "markdown",
   "id": "23d55827",
   "metadata": {},
   "source": [
    "# 9. Create a program that checks if a given string is a palindrome."
   ]
  },
  {
   "cell_type": "code",
   "execution_count": 15,
   "id": "6858a3cf",
   "metadata": {},
   "outputs": [
    {
     "name": "stdout",
     "output_type": "stream",
     "text": [
      "Enter a string: uhfb euhreu urheur\n",
      "uhfb euhreu urheur is not a palindrome.\n"
     ]
    }
   ],
   "source": [
    "# Taking user input for a string\n",
    "string = input(\"Enter a string: \")\n",
    "\n",
    "# Reversing the string\n",
    "reverse_string = string[::-1]\n",
    "\n",
    "# Checking if the original and reversed strings are the same\n",
    "if string == reverse_string:\n",
    "    print(f\"{string} is a palindrome.\")\n",
    "else:\n",
    "    print(f\"{string} is not a palindrome.\")\n"
   ]
  },
  {
   "cell_type": "markdown",
   "id": "c0e41853",
   "metadata": {},
   "source": [
    "\n",
    "This Python program checks if a given string is a palindrome. It takes user input for a string, reverses the string, and compares it to the original. If the original and reversed strings are the same, the input string is a palindrome; otherwise, it is not. The result is then printed."
   ]
  },
  {
   "cell_type": "markdown",
   "id": "840750a4",
   "metadata": {},
   "source": [
    "# 10. Write a Python program to calculate the grade based on a student's score."
   ]
  },
  {
   "cell_type": "code",
   "execution_count": 16,
   "id": "92fe6a57",
   "metadata": {},
   "outputs": [
    {
     "name": "stdout",
     "output_type": "stream",
     "text": [
      "Enter the student's score: 67\n",
      "The student's grade is: D\n"
     ]
    }
   ],
   "source": [
    "def calculate_grade(score):\n",
    "    if 90 <= score <= 100: return 'A'\n",
    "    elif 80 <= score < 90: return 'B'\n",
    "    elif 70 <= score < 80: return 'C'\n",
    "    elif 60 <= score < 70: return 'D'\n",
    "    elif 0 <= score < 60: return 'F'\n",
    "    else: return 'Invalid score'\n",
    "\n",
    "try:\n",
    "    score = float(input(\"Enter the student's score: \"))\n",
    "    grade = calculate_grade(score) if 0 <= score <= 100 else 'Invalid score'\n",
    "    print(f\"The student's grade is: {grade}\")\n",
    "except ValueError:\n",
    "    print(\"Invalid input. Please enter a valid number.\")\n",
    "\n",
    "    "
   ]
  },
  {
   "cell_type": "markdown",
   "id": "4d337074",
   "metadata": {},
   "source": [
    "This short Python program prompts the user to input a student's score, calculates the corresponding grade using a predefined function (calculate_grade), and then prints the result. The program includes input validation to handle potential errors, such as non-numeric inputs. The grading scale is defined based on score ranges for grades A, B, C, D, and F."
   ]
  },
  {
   "cell_type": "markdown",
   "id": "5d2bfeba",
   "metadata": {},
   "source": [
    "#          Nested If-Else Statements:"
   ]
  },
  {
   "cell_type": "code",
   "execution_count": null,
   "id": "2e36d19b",
   "metadata": {},
   "outputs": [],
   "source": []
  },
  {
   "cell_type": "markdown",
   "id": "8f9c01e5",
   "metadata": {},
   "source": [
    "# 11. Write a program to find the largest among three numbers using nested if-else statements."
   ]
  },
  {
   "cell_type": "code",
   "execution_count": 25,
   "id": "11bea819",
   "metadata": {},
   "outputs": [
    {
     "name": "stdout",
     "output_type": "stream",
     "text": [
      "Enter the first number: 56\n",
      "Enter the second number: 78\n",
      "Enter the third number: 56\n",
      "The largest number is: 78.0\n"
     ]
    }
   ],
   "source": [
    "# Get three numbers from the user\n",
    "try:\n",
    "    num1 = float(input(\"Enter the first number: \"))\n",
    "    num2 = float(input(\"Enter the second number: \"))\n",
    "    num3 = float(input(\"Enter the third number: \"))\n",
    "\n",
    "    # Use nested if-else statements to find the largest number\n",
    "    if num1 >= num2 >= num3:\n",
    "        largest = num1\n",
    "    elif num2 >= num1 >= num3:\n",
    "        largest = num2\n",
    "    else:\n",
    "        largest = num3\n",
    "\n",
    "    print(f\"The largest number is: {largest}\")\n",
    "except ValueError:\n",
    "    print(\"Invalid input. Please enter valid numbers.\")\n"
   ]
  },
  {
   "cell_type": "markdown",
   "id": "e2844c8e",
   "metadata": {},
   "source": [
    "This Python program prompts the user to input three numbers, then uses nested if-else statements to determine and print the largest among them. It also includes input validation to handle potential errors, such as non-numeric inputs."
   ]
  },
  {
   "cell_type": "markdown",
   "id": "08081b9d",
   "metadata": {},
   "source": [
    "# 12. Implement a program to determine if a triangle is equilateral, isosceles, or scalene."
   ]
  },
  {
   "cell_type": "code",
   "execution_count": 1,
   "id": "b0ea38f0",
   "metadata": {},
   "outputs": [
    {
     "name": "stdout",
     "output_type": "stream",
     "text": [
      "Enter the length of side 1: 3\n",
      "Enter the length of side 2: 4\n",
      "Enter the length of side 3: 3\n",
      "The triangle is Isosceles.\n"
     ]
    }
   ],
   "source": [
    "def triangle_type(a, b, c):\n",
    "    if a == b == c:\n",
    "        return \"Equilateral\"\n",
    "    elif a == b or b == c or a == c:\n",
    "        return \"Isosceles\"\n",
    "    else:\n",
    "        return \"Scalene\"\n",
    "\n",
    "def main():\n",
    "    # Input the sides of the triangle\n",
    "    side1 = float(input(\"Enter the length of side 1: \"))\n",
    "    side2 = float(input(\"Enter the length of side 2: \"))\n",
    "    side3 = float(input(\"Enter the length of side 3: \"))\n",
    "\n",
    "    # Check if the input forms a valid triangle\n",
    "    if side1 + side2 > side3 and side1 + side3 > side2 and side2 + side3 > side1:\n",
    "        triangle_result = triangle_type(side1, side2, side3)\n",
    "        print(f\"The triangle is {triangle_result}.\")\n",
    "    else:\n",
    "        print(\"The input does not form a valid triangle.\")\n",
    "\n",
    "if __name__ == \"__main__\":\n",
    "    main()\n"
   ]
  },
  {
   "cell_type": "markdown",
   "id": "078d28c7",
   "metadata": {},
   "source": [
    "This program takes the lengths of three sides of a triangle as input and then checks if they form a valid triangle. If it's a valid triangle, it determines whether it is equilateral, isosceles, or scalene and prints the result."
   ]
  },
  {
   "cell_type": "markdown",
   "id": "f21cfca3",
   "metadata": {},
   "source": [
    "# 13. Develop a program that checks if a year is a leap year and also if it is a century year."
   ]
  },
  {
   "cell_type": "code",
   "execution_count": 33,
   "id": "7a79113e",
   "metadata": {},
   "outputs": [
    {
     "name": "stdout",
     "output_type": "stream",
     "text": [
      "Enter a year: 2023\n",
      "2023 is not a leap year.\n",
      "2023 is not a century year.\n"
     ]
    }
   ],
   "source": [
    "def is_leap_year(year):\n",
    "    # Leap year if divisible by 4\n",
    "    if year % 4 == 0:\n",
    "        # Exception: Century year is not a leap year unless it's divisible by 400\n",
    "        if year % 100 == 0:\n",
    "            return year % 400 == 0\n",
    "        else:\n",
    "            return True\n",
    "    else:\n",
    "        return False\n",
    "\n",
    "def main():\n",
    "    # Input the year\n",
    "    year = int(input(\"Enter a year: \"))\n",
    "\n",
    "    if is_leap_year(year):\n",
    "        print(f\"{year} is a leap year.\")\n",
    "    else:\n",
    "        print(f\"{year} is not a leap year.\")\n",
    "\n",
    "    if year % 100 == 0:\n",
    "        print(f\"{year} is a century year.\")\n",
    "    else:\n",
    "        print(f\"{year} is not a century year.\")\n",
    "\n",
    "if __name__ == \"__main__\":\n",
    "    main()\n"
   ]
  },
  {
   "cell_type": "markdown",
   "id": "5436981b",
   "metadata": {},
   "source": [
    "This program defines a function is_leap_year that checks if a year is a leap year according to the standard rules (divisible by 4, except for century years, which must also be divisible by 400). The main function takes a year as input, checks if it's a leap year, and whether it's a century year, and prints the results."
   ]
  },
  {
   "cell_type": "markdown",
   "id": "8e2e478f",
   "metadata": {},
   "source": [
    "# 14. Write a program to find the largest among three numbers without using the `max()` function."
   ]
  },
  {
   "cell_type": "code",
   "execution_count": 39,
   "id": "aa66b4da",
   "metadata": {},
   "outputs": [
    {
     "name": "stdout",
     "output_type": "stream",
     "text": [
      "Enter the first number: 45\n",
      "Enter the second number: 32\n",
      "Enter the third number: 34\n",
      "The largest number among 45.0, 32.0, and 34.0 is: 45.0\n"
     ]
    }
   ],
   "source": [
    "def find_largest(num1, num2, num3):\n",
    "    if num1 >= num2 and num1 >= num3:\n",
    "        return num1\n",
    "    elif num2 >= num1 and num2 >= num3:\n",
    "        return num2\n",
    "    else:\n",
    "        return num3\n",
    "\n",
    "def main():\n",
    "    # Input three numbers\n",
    "    num1 = float(input(\"Enter the first number: \"))\n",
    "    num2 = float(input(\"Enter the second number: \"))\n",
    "    num3 = float(input(\"Enter the third number: \"))\n",
    "\n",
    "    largest = find_largest(num1, num2, num3)\n",
    "\n",
    "    print(f\"The largest number among {num1}, {num2}, and {num3} is: {largest}\")\n",
    "\n",
    "if __name__ == \"__main__\":\n",
    "    main()\n"
   ]
  },
  {
   "cell_type": "markdown",
   "id": "0b4a2c0d",
   "metadata": {},
   "source": [
    "This program defines a function find_largest that takes three numbers as parameters and returns the largest one. The main function takes user input for three numbers, calls the find_largest function, and then prints the result."
   ]
  },
  {
   "cell_type": "markdown",
   "id": "797cece7",
   "metadata": {},
   "source": [
    "# 15. Create a program that simulates a basic ATM transaction menu."
   ]
  },
  {
   "cell_type": "code",
   "execution_count": null,
   "id": "d2813071",
   "metadata": {},
   "outputs": [
    {
     "name": "stdout",
     "output_type": "stream",
     "text": [
      "\n",
      "ATM Menu:\n",
      "1. Display Balance\n",
      "2. Deposit\n",
      "3. Withdraw\n",
      "4. Exit\n",
      "Enter your choice (1-4): 3\n",
      "Enter the withdrawal amount: $566\n",
      "$566.00 has been withdrawn.\n",
      "Your current balance is $434.00\n",
      "\n",
      "ATM Menu:\n",
      "1. Display Balance\n",
      "2. Deposit\n",
      "3. Withdraw\n",
      "4. Exit\n",
      "Enter your choice (1-4): 66\n",
      "Invalid choice. Please enter a number between 1 and 4.\n",
      "\n",
      "ATM Menu:\n",
      "1. Display Balance\n",
      "2. Deposit\n",
      "3. Withdraw\n",
      "4. Exit\n"
     ]
    }
   ],
   "source": [
    "class ATM:\n",
    "    def __init__(self, balance=1000):\n",
    "        self.balance = balance\n",
    "\n",
    "    def display_balance(self):\n",
    "        print(f\"Your current balance is ${self.balance:.2f}\")\n",
    "\n",
    "    def deposit(self, amount):\n",
    "        self.balance += amount\n",
    "        print(f\"${amount:.2f} has been deposited.\")\n",
    "        self.display_balance()\n",
    "\n",
    "    def withdraw(self, amount):\n",
    "        if amount > self.balance:\n",
    "            print(\"Insufficient funds. Withdrawal canceled.\")\n",
    "        else:\n",
    "            self.balance -= amount\n",
    "            print(f\"${amount:.2f} has been withdrawn.\")\n",
    "            self.display_balance()\n",
    "\n",
    "def main():\n",
    "    atm = ATM()\n",
    "\n",
    "    while True:\n",
    "        print(\"\\nATM Menu:\")\n",
    "        print(\"1. Display Balance\")\n",
    "        print(\"2. Deposit\")\n",
    "        print(\"3. Withdraw\")\n",
    "        print(\"4. Exit\")\n",
    "\n",
    "        choice = input(\"Enter your choice (1-4): \")\n",
    "\n",
    "        if choice == \"1\":\n",
    "            atm.display_balance()\n",
    "        elif choice == \"2\":\n",
    "            amount = float(input(\"Enter the deposit amount: $\"))\n",
    "            atm.deposit(amount)\n",
    "        elif choice == \"3\":\n",
    "            amount = float(input(\"Enter the withdrawal amount: $\"))\n",
    "            atm.withdraw(amount)\n",
    "        elif choice == \"4\":\n",
    "            print(\"Exiting ATM. Thank you!\")\n",
    "            break\n",
    "        else:\n",
    "            print(\"Invalid choice. Please enter a number between 1 and 4.\")\n",
    "\n",
    "if __name__ == \"__main__\":\n",
    "    main()\n"
   ]
  },
  {
   "cell_type": "markdown",
   "id": "3373fc52",
   "metadata": {},
   "source": [
    "This program defines a simple ATM class with methods for displaying the balance, depositing, and withdrawing money. The main function creates an instance of the ATM class and presents a menu to the user, allowing them to choose various transactions until they choose to exit the program."
   ]
  },
  {
   "cell_type": "markdown",
   "id": "50994d27",
   "metadata": {},
   "source": [
    "# 16. Build a program that checks if a given string is a palindrome or not."
   ]
  },
  {
   "cell_type": "code",
   "execution_count": 1,
   "id": "af2c4485",
   "metadata": {},
   "outputs": [
    {
     "name": "stdout",
     "output_type": "stream",
     "text": [
      "Enter a string: shahsnaha\n",
      "shahsnaha is not palindrome.\n"
     ]
    }
   ],
   "source": [
    "def is_palindrome(s):\n",
    "    s = s.replace(\" \", \"\").lower()\n",
    "    return s == s[::-1]\n",
    "\n",
    "def main():\n",
    "    input_string = input(\"Enter a string: \")\n",
    "    if is_palindrome(input_string): \n",
    "        print(f\"{input_string} is palindrome.\")\n",
    "    else:\n",
    "        print(f\"{input_string} is not palindrome.\")\n",
    "\n",
    "if __name__ == \"__main__\":\n",
    "    main()\n"
   ]
  },
  {
   "cell_type": "markdown",
   "id": "247c6653",
   "metadata": {},
   "source": [
    "This program defines a function is_palindrome to check if a given string is a palindrome, and the main function takes user input, calls the function, and prints the result. It handles cases where the palindrome may have different capitalization or spaces."
   ]
  },
  {
   "cell_type": "markdown",
   "id": "370e0460",
   "metadata": {},
   "source": [
    "# 17. Write a program that calculates the average of a list of numbers, excluding the smallest and largest values."
   ]
  },
  {
   "cell_type": "code",
   "execution_count": null,
   "id": "e3ccbe4b",
   "metadata": {},
   "outputs": [],
   "source": [
    "def calculate_average(numbers):\n",
    "    if len(numbers) < 3:\n",
    "        print(\"List should have at least three numbers.\")\n",
    "        return\n",
    "\n",
    "    # Exclude the smallest and largest values\n",
    "    numbers.sort()\n",
    "    trimmed_numbers = numbers[1:-1]\n",
    "\n",
    "    # Calculate the average\n",
    "    average = sum(trimmed_numbers) / len(trimmed_numbers)\n",
    "    \n",
    "    return average\n",
    "\n",
    "def main():\n",
    "    # Input a list of numbers\n",
    "    numbers = [float(x) for x in input(\"Enter a list of numbers separated by spaces: \").split()]\n",
    "\n",
    "    # Calculate and print the average\n",
    "    result = calculate_average(numbers)\n",
    "    \n",
    "    if result is not None:\n",
    "        print(f\"The average (excluding the smallest and largest values) is: {result:.2f}\")\n",
    "\n",
    "if __name__ == \"__main__\":\n",
    "    main()\n"
   ]
  },
  {
   "cell_type": "markdown",
   "id": "d9e8a776",
   "metadata": {},
   "source": [
    "This program defines a function calculate_average that takes a list of numbers, sorts them, excludes the smallest and largest values, and then calculates the average of the remaining values. The main function takes user input for a list of numbers, calls the calculate_average function, and prints the result.\n",
    "\n",
    "\n",
    "\n",
    "\n",
    "\n"
   ]
  },
  {
   "cell_type": "markdown",
   "id": "c036a64c",
   "metadata": {},
   "source": [
    "# 18. Develop a program that converts a given temperature from Celsius to Fahrenheit."
   ]
  },
  {
   "cell_type": "code",
   "execution_count": 1,
   "id": "79b9082b",
   "metadata": {},
   "outputs": [
    {
     "name": "stdout",
     "output_type": "stream",
     "text": [
      "Enter temperature in Celsius: 343\n",
      "343.0 degrees Celsius is equal to 649.40 degrees Fahrenheit.\n"
     ]
    }
   ],
   "source": [
    "def celsius_to_fahrenheit(celsius):\n",
    "    fahrenheit = (celsius * 9/5) + 32\n",
    "    return fahrenheit\n",
    "\n",
    "def main():\n",
    "    # Input temperature in Celsius\n",
    "    celsius_temperature = float(input(\"Enter temperature in Celsius: \"))\n",
    "\n",
    "    # Convert Celsius to Fahrenheit\n",
    "    fahrenheit_temperature = celsius_to_fahrenheit(celsius_temperature)\n",
    "\n",
    "    # Display the result\n",
    "    print(f\"{celsius_temperature} degrees Celsius is equal to {fahrenheit_temperature:.2f} degrees Fahrenheit.\")\n",
    "\n",
    "if __name__ == \"__main__\":\n",
    "    main()\n"
   ]
  },
  {
   "cell_type": "markdown",
   "id": "4b188e97",
   "metadata": {},
   "source": [
    "This program defines a function celsius_to_fahrenheit that performs the conversion. The main function takes user input for the temperature in Celsius, calls the conversion function, and then prints the result in Fahrenheit.\n",
    "\n",
    "\n",
    "\n",
    "\n",
    "\n"
   ]
  },
  {
   "cell_type": "markdown",
   "id": "9f7e7745",
   "metadata": {},
   "source": [
    "# 19. Create a program that simulates a basic calculator for addition, subtraction, multiplication, and division."
   ]
  },
  {
   "cell_type": "code",
   "execution_count": 4,
   "id": "824d1307",
   "metadata": {},
   "outputs": [
    {
     "name": "stdout",
     "output_type": "stream",
     "text": [
      "Simple Calculator\n",
      "1. Addition\n",
      "2. Subtraction\n",
      "3. Multiplication\n",
      "4. Division\n",
      "Enter choice (1/2/3/4): 2\n",
      "Enter first number: 4\n",
      "Enter second number: 5\n",
      "4.0 - 5.0 = -1.0\n"
     ]
    }
   ],
   "source": [
    "def add(x, y):\n",
    "    return x + y\n",
    "\n",
    "def subtract(x, y):\n",
    "    return x - y\n",
    "\n",
    "def multiply(x, y):\n",
    "    return x * y\n",
    "(\"4. Division\")\n",
    "\n",
    "    choice = input(\"Enter choice (1/2/3/4): \")\n",
    "\n",
    "    num1 = float(input(\"Enter first number: \"))\n",
    "    num2 = float(input(\"Enter second number: \"))\n",
    "\n",
    "    if choice == '1':\n",
    "        result = add(num1, num2)\n",
    "        print(f\"{num1} + {num2} = {result}\")\n",
    "    elif choice == '2':\n",
    "        result = subtract(num1, num2)\n",
    "        print(f\"{num1} - {num2} = {result}\")\n",
    "    elif choice == '3':\n",
    "        result = multiply(num1, num2)\n",
    "        print(f\"{num1} * {num2} = {result}\")\n",
    "    elif choice == '4':\n",
    "        result = divide(num1, num2)\n",
    "        print(f\"{num1} / {num2} = {result}\")\n",
    "    else:\n",
    "        print(\"Invalid input. Please enter a valid choice (1/2/3/4).\")\n",
    "\n",
    "if __name__ == \"__main__\":\n",
    "    main()\n",
    "\n",
    "def divide(x, y):\n",
    "    if y == 0:\n",
    "        return \"Cannot divide by zero\"\n",
    "    return x / y\n",
    "\n",
    "def main():\n",
    "    print(\"Simple Calculator\")\n",
    "    print(\"1. Addition\")\n",
    "    print(\"2. Subtraction\")\n",
    "    print(\"3. Multiplication\")\n",
    "    print"
   ]
  },
  {
   "cell_type": "markdown",
   "id": "0aa36d55",
   "metadata": {},
   "source": [
    "This program defines functions for addition, subtraction, multiplication, and division. The main function displays a menu for the user to choose an operation, takes input for two numbers, performs the selected operation, and prints the result."
   ]
  },
  {
   "cell_type": "markdown",
   "id": "65fe7b8f",
   "metadata": {},
   "source": [
    "# 20. Write a program that determines the roots of a cubic equation using the Cardano formula."
   ]
  },
  {
   "cell_type": "code",
   "execution_count": 2,
   "id": "7aef7584",
   "metadata": {},
   "outputs": [
    {
     "name": "stdout",
     "output_type": "stream",
     "text": [
      "Enter the coefficient a: 2\n",
      "Enter the coefficient b: 3\n",
      "Enter the coefficient c: 2\n",
      "Enter the coefficient d: 1\n",
      "Roots: ((-0.9999999999999998+0j), (-2.9999999999999996+5.196152422706631j), (-2.9999999999999996-5.196152422706631j))\n"
     ]
    }
   ],
   "source": [
    "import cmath\n",
    "\n",
    "def cubic_roots(a, b, c, d):\n",
    "    # Calculate discriminant\n",
    "    delta0 = b**2 - 3*a*c\n",
    "    delta1 = 2*b**3 - 9*a*b*c + 27*a**2*d\n",
    "    delta = delta1**2 - 4*delta0**3\n",
    "\n",
    "    # Calculate roots\n",
    "    if delta > 0:\n",
    "        # One real root and two complex roots\n",
    "        C = ((delta1 + cmath.sqrt(delta)) / 2)**(1/3)\n",
    "        root1 = (-1/(3*a)) * (b + C + delta0/C)\n",
    "        root2 = (-1 + 1j * cmath.sqrt(3)) / 2 * (b + C + delta0/C)\n",
    "        root3 = (-1 - 1j * cmath.sqrt(3)) / 2 * (b + C + delta0/C)\n",
    "    elif delta == 0:\n",
    "        # Three real roots (two are equal)\n",
    "        if delta0 == 0:\n",
    "            root1 = root2 = root3 = -b / (3 * a)\n",
    "        else:\n",
    "            K = ((-27 * d) / delta0)**(1/3)\n",
    "            root1 = root2 = root3 = (K - b / (3 * a))\n",
    "    else:\n",
    "        # Three real roots\n",
    "        C = ((delta1 + cmath.sqrt(delta)) / 2)**(1/3)\n",
    "        D = ((delta1 - cmath.sqrt(delta)) / 2)**(1/3)\n",
    "        root1 = -1/(3*a) * (b + C + D)\n",
    "        root2 = -1/(3*a) * (b + (1 + 1j * cmath.sqrt(3)) * C + (1 - 1j * cmath.sqrt(3)) * D)\n",
    "        root3 = -1/(3*a) * (b + (1 - 1j * cmath.sqrt(3)) * C + (1 + 1j * cmath.sqrt(3)) * D)\n",
    "\n",
    "    return root1, root2, root3\n",
    "\n",
    "# Example usage\n",
    "a = float(input(\"Enter the coefficient a: \"))\n",
    "b = float(input(\"Enter the coefficient b: \"))\n",
    "c = float(input(\"Enter the coefficient c: \"))\n",
    "d = float(input(\"Enter the coefficient d: \"))\n",
    "\n",
    "roots = cubic_roots(a, b, c, d)\n",
    "print(\"Roots:\", roots)\n"
   ]
  },
  {
   "cell_type": "markdown",
   "id": "44035356",
   "metadata": {},
   "source": [
    "This program defines a cubic_roots function that takes coefficients a, b, c, and d as input and calculates the roots using the Cardano formula. The user is prompted to enter the coefficients, and the roots are then printed. The key part is the Cardano formula, which involves complex numbers to handle cubic equations with complex roots."
   ]
  },
  {
   "cell_type": "markdown",
   "id": "2dcb8941",
   "metadata": {},
   "source": [
    "# 21. Write a Python program to assign grades based on different ranges of scores using elif statements."
   ]
  },
  {
   "cell_type": "code",
   "execution_count": 14,
   "id": "daf4890a",
   "metadata": {},
   "outputs": [
    {
     "name": "stdout",
     "output_type": "stream",
     "text": [
      "Enter the student's score: 45\n",
      "The student's grade is: F\n"
     ]
    }
   ],
   "source": [
    "def assign_grade(score):\n",
    "    if 90 <= score <= 100:\n",
    "        return 'A'\n",
    "    elif 80 <= score < 90:\n",
    "        return 'B'\n",
    "    elif 70 <= score < 80:\n",
    "        return 'C'\n",
    "    elif 60 <= score < 70:\n",
    "        return 'D'\n",
    "    elif 0 <= score < 60:\n",
    "        return 'F'\n",
    "    else:\n",
    "        return 'Invalid Score'\n",
    "\n",
    "# Example usage\n",
    "try:\n",
    "    score = float(input(\"Enter the student's score: \"))\n",
    "    if 0 <= score <= 100:\n",
    "        grade = assign_grade(score)\n",
    "        print(f\"The student's grade is: {grade}\")\n",
    "    else:\n",
    "        print(\"Invalid input. Please enter a score between 0 and 100.\")\n",
    "except ValueError:\n",
    "    print(\"Invalid input. Please enter a numerical score.\")\n"
   ]
  },
  {
   "cell_type": "markdown",
   "id": "62445939",
   "metadata": {},
   "source": [
    "assign_grade function assigns grades based on different score ranges using elif statements.\n",
    "The program prompts the user to enter a student's score, validates the input, and assigns a grade accordingly.\n",
    "Error handling is included to manage cases where the user enters non-numerical input.\n",
    "\n",
    "\n",
    "\n",
    "\n"
   ]
  },
  {
   "cell_type": "markdown",
   "id": "173bdfd4",
   "metadata": {},
   "source": [
    "# 22. Implement a program to determine the type of a triangle based on its angles."
   ]
  },
  {
   "cell_type": "code",
   "execution_count": 17,
   "id": "484345da",
   "metadata": {},
   "outputs": [
    {
     "name": "stdout",
     "output_type": "stream",
     "text": [
      "Enter the first angle of the triangle: 60\n",
      "Enter the second angle of the triangle: 60\n",
      "Enter the third angle of the triangle: 60\n",
      "The triangle is a Equilateral Triangle\n"
     ]
    }
   ],
   "source": [
    "def triangle_type(angle1, angle2, angle3):\n",
    "    # Check if the angles form a valid triangle\n",
    "    if angle1 + angle2 + angle3 == 180 and all(angle > 0 for angle in [angle1, angle2, angle3]):\n",
    "        # Check the type of triangle based on angles\n",
    "        if angle1 == angle2 == angle3:\n",
    "            return \"Equilateral Triangle\"\n",
    "        elif angle1 == angle2 or angle1 == angle3 or angle2 == angle3:\n",
    "            return \"Isosceles Triangle\"\n",
    "        else:\n",
    "            return \"Scalene Triangle\"\n",
    "    else:\n",
    "        return \"Invalid Triangle\"\n",
    "\n",
    "# Example usage\n",
    "try:\n",
    "    angle1 = float(input(\"Enter the first angle of the triangle: \"))\n",
    "    angle2 = float(input(\"Enter the second angle of the triangle: \"))\n",
    "    angle3 = float(input(\"Enter the third angle of the triangle: \"))\n",
    "\n",
    "    triangle_result = triangle_type(angle1, angle2, angle3)\n",
    "    print(f\"The triangle is a {triangle_result}\")\n",
    "except ValueError:\n",
    "    print(\"Invalid input. Please enter numerical values for the angles.\")\n"
   ]
  },
  {
   "cell_type": "markdown",
   "id": "f1df8e68",
   "metadata": {},
   "source": [
    "triangle_type Function:\n",
    "\n",
    "Takes three angles as input.\n",
    "Checks if the angles form a valid triangle (sums to 180 and all angles are positive).\n",
    "Determines the type of triangle (Equilateral, Isosceles, Scalene) based on angle conditions.\n",
    "Returns the result.\n",
    "Main Code:\n",
    "\n",
    "Prompts the user to enter three angles of a triangle.\n",
    "Calls the triangle_type function with the entered angles.\n",
    "Prints the determined type of the triangle.\n",
    "Includes error handling for non-numerical inputs.\n",
    "This program provides a simple way to analyze a triangle's type based on its angles, considering input validity and error handling."
   ]
  },
  {
   "cell_type": "markdown",
   "id": "90debc0c",
   "metadata": {},
   "source": [
    "# 23. Develop a program to categorize a given person's BMI into underweight, normal, overweight, or obese using\n",
    "elif statements."
   ]
  },
  {
   "cell_type": "code",
   "execution_count": 22,
   "id": "233251aa",
   "metadata": {},
   "outputs": [
    {
     "name": "stdout",
     "output_type": "stream",
     "text": [
      "Enter your weight in kilograms: 243\n",
      "Enter your height in meters: 32\n",
      "Your BMI is 0.24, and you are categorized as Underweight.\n"
     ]
    }
   ],
   "source": [
    "def calculate_bmi(weight, height):\n",
    "    # BMI formula: weight (kg) / (height (m))^2\n",
    "    bmi = weight / (height ** 2)\n",
    "    return bmi\n",
    "\n",
    "def categorize_bmi(bmi):\n",
    "    if bmi < 18.5:\n",
    "        return \"Underweight\"\n",
    "    elif 18.5 <= bmi < 25:\n",
    "        return \"Normal Weight\"\n",
    "    elif 25 <= bmi < 30:\n",
    "        return \"Overweight\"\n",
    "    else:\n",
    "        return \"Obese\"\n",
    "\n",
    "# Example usage\n",
    "try:\n",
    "    weight = float(input(\"Enter your weight in kilograms: \"))\n",
    "    height = float(input(\"Enter your height in meters: \"))\n",
    "\n",
    "    if weight > 0 and height > 0:\n",
    "        user_bmi = calculate_bmi(weight, height)\n",
    "        bmi_category = categorize_bmi(user_bmi)\n",
    "\n",
    "        print(f\"Your BMI is {user_bmi:.2f}, and you are categorized as {bmi_category}.\")\n",
    "    else:\n",
    "        print(\"Invalid input. Please enter positive values for weight and height.\")\n",
    "except ValueError:\n",
    "    print(\"Invalid input. Please enter numerical values for weight and height.\")\n"
   ]
  },
  {
   "cell_type": "markdown",
   "id": "0532a6b7",
   "metadata": {},
   "source": [
    "This program helps categorize a person's BMI based on user-inputted weight and height, providing informative results for underweight, normal weight, overweight, or obese categories.\n",
    "\n",
    "\n",
    "\n",
    "\n",
    "\n"
   ]
  },
  {
   "cell_type": "markdown",
   "id": "98f8e117",
   "metadata": {},
   "source": [
    "# 24. Create a program that determines whether a given number is positive, negative, or zero using elif statements.\n"
   ]
  },
  {
   "cell_type": "code",
   "execution_count": 23,
   "id": "2655a1cf",
   "metadata": {},
   "outputs": [
    {
     "name": "stdout",
     "output_type": "stream",
     "text": [
      "Enter a number as input value: 4\n",
      "Number given by you is Positive\n"
     ]
    }
   ],
   "source": [
    "def NumberCheck(a):   \n",
    "    # Checking if the number is positive  \n",
    "    if a > 0:   \n",
    "        print(\"Number given by you is Positive\")   \n",
    "    # Checking if the number is negative   \n",
    "    elif a < 0:   \n",
    "        print(\"Number given by you is Negative\")   \n",
    "    # Else the number is zero  \n",
    "    else:   \n",
    "        print(\"Number given by you is zero\")  \n",
    "# Taking number from user  \n",
    "a = float(input(\"Enter a number as input value: \"))  \n",
    "# Printing result  \n",
    "NumberCheck(a) "
   ]
  },
  {
   "cell_type": "markdown",
   "id": "2c0dc79e",
   "metadata": {},
   "source": [
    "This Python program prompts the user to enter a number, determines if it's positive, negative, or zero using elif statements, and prints the result. It includes error handling for non-numerical input."
   ]
  },
  {
   "cell_type": "markdown",
   "id": "77be288d",
   "metadata": {},
   "source": [
    "# 25. Write a Python script to determine the type of a character (uppercase, lowercase, or special) using elif statements .\n"
   ]
  },
  {
   "cell_type": "code",
   "execution_count": 7,
   "id": "952d085b",
   "metadata": {},
   "outputs": [
    {
     "name": "stdout",
     "output_type": "stream",
     "text": [
      "Enter a character: SHAHANSHAH\n",
      "Uppercase letter\n"
     ]
    }
   ],
   "source": [
    "char = input(\"Enter a character: \")\n",
    "\n",
    "if char.isalpha():\n",
    "    if char.isupper():\n",
    "        print(\"Uppercase letter\")\n",
    "    elif char.islower():\n",
    "        print(\"Lowercase letter\")\n",
    "else:\n",
    "    print(\"Special character or digit\")\n"
   ]
  },
  {
   "cell_type": "markdown",
   "id": "d9684e75",
   "metadata": {},
   "source": [
    "This script efficiently determines the type of the entered character and prints the result using elif statements."
   ]
  },
  {
   "cell_type": "markdown",
   "id": "aeaefbdc",
   "metadata": {},
   "source": [
    "# 26. Write a program that simulates a basic quiz game with multiple-choice questions and scoring."
   ]
  },
  {
   "cell_type": "code",
   "execution_count": null,
   "id": "7d07f208",
   "metadata": {},
   "outputs": [
    {
     "name": "stdout",
     "output_type": "stream",
     "text": [
      "What is the capital of France?\n",
      "1. London\n",
      "2. Paris\n",
      "3. Berlin\n",
      "\n",
      "Enter your choice (1, 2, 3, etc.): 55\n",
      "Invalid choice. Please enter a number between 1 and 3\n",
      "Enter your choice (1, 2, 3, etc.): 54\n",
      "Invalid choice. Please enter a number between 1 and 3\n",
      "Enter your choice (1, 2, 3, etc.): 43\n",
      "Invalid choice. Please enter a number between 1 and 3\n",
      "Enter your choice (1, 2, 3, etc.): 55\n",
      "Invalid choice. Please enter a number between 1 and 3\n"
     ]
    }
   ],
   "source": [
    "# Define a class called Quiz to encapsulate the quiz functionality\n",
    "class Quiz:\n",
    "    def __init__(self, questions):\n",
    "        # The constructor initializes the Quiz object with a list of questions and sets the initial score to 0.\n",
    "        self.questions = questions\n",
    "        self.score = 0\n",
    "\n",
    "    def display_question(self, question):\n",
    "        # Method to display a question along with its choices\n",
    "        print(question['question'])\n",
    "        for i, choice in enumerate(question['choices'], start=1):\n",
    "            print(f\"{i}. {choice}\")\n",
    "        print()\n",
    "\n",
    "    def get_user_answer(self):\n",
    "        # Method to get the user's answer and handle input validation\n",
    "        while True:\n",
    "            try:\n",
    "                user_answer = int(input(\"Enter your choice (1, 2, 3, etc.): \"))\n",
    "                # Check if the entered choice is within the valid range\n",
    "                if 1 <= user_answer <= len(self.current_question['choices']):\n",
    "                    return user_answer\n",
    "                else:\n",
    "                    print(\"Invalid choice. Please enter a number between 1 and\", len(self.current_question['choices']))\n",
    "            except ValueError:\n",
    "                print(\"Invalid input. Please enter a number.\")\n",
    "\n",
    "    def run_quiz(self):\n",
    "        # Method to run the entire quiz\n",
    "        for i, question in enumerate(self.questions, start=1):\n",
    "            # Iterate through each question in the list\n",
    "            self.current_question = question\n",
    "            self.display_question(question)  # Display the current question\n",
    "            user_answer = self.get_user_answer()  # Get the user's answer\n",
    "\n",
    "            if user_answer == question['correct_choice']:\n",
    "                # Check if the user's answer is correct and update the score\n",
    "                print(\"Correct!\\n\")\n",
    "                self.score += 1\n",
    "            else:\n",
    "                # If the answer is incorrect, provide the correct answer\n",
    "                print(f\"Incorrect. The correct answer is {question['correct_choice']}: {question['choices'][question['correct_choice'] - 1]}\\n\")\n",
    "\n",
    "        # Display the final score after completing all questions\n",
    "        print(f\"Quiz completed! Your score is: {self.score}/{len(self.questions)}\")\n",
    "\n",
    "\n",
    "# Sample quiz questions\n",
    "quiz_questions = [\n",
    "    {\n",
    "        'question': 'What is the capital of France?',\n",
    "        'choices': ['London', 'Paris', 'Berlin'],\n",
    "        'correct_choice': 2\n",
    "    },\n",
    "    {\n",
    "        'question': 'Which planet is known as the Red Planet?',\n",
    "        'choices': ['Mars', 'Jupiter', 'Venus'],\n",
    "        'correct_choice': 1\n",
    "    },\n",
    "    {\n",
    "        'question': 'What is the largest mammal on Earth?',\n",
    "        'choices': ['Elephant', 'Blue Whale', 'Giraffe'],\n",
    "        'correct_choice': 2\n",
    "    }\n",
    "]\n",
    "\n",
    "# Create a Quiz instance and run the quiz\n",
    "my_quiz = Quiz(quiz_questions)\n",
    "my_quiz.run_quiz()\n"
   ]
  },
  {
   "cell_type": "markdown",
   "id": "5e9f7523",
   "metadata": {},
   "source": [
    "# 27. Develop a program that determines whether a given year is a prime number or not."
   ]
  },
  {
   "cell_type": "code",
   "execution_count": 2,
   "id": "d4a70b17",
   "metadata": {},
   "outputs": [
    {
     "name": "stdout",
     "output_type": "stream",
     "text": [
      "Enter a year: 2022\n",
      "2022 is not a prime number.\n"
     ]
    }
   ],
   "source": [
    "def is_prime(year):\n",
    "    if year <= 1:\n",
    "        return False\n",
    "    for i in range(2, int(year**0.5) + 1):\n",
    "        if year % i == 0:\n",
    "            return False\n",
    "    return True\n",
    "\n",
    "def main():\n",
    "    try:\n",
    "        year = int(input(\"Enter a year: \"))\n",
    "        if is_prime(year):\n",
    "            print(f\"{year} is a prime number.\")\n",
    "        else:\n",
    "            print(f\"{year} is not a prime number.\")\n",
    "    except ValueError:\n",
    "        print(\"Invalid input. Please enter a valid year.\")\n",
    "\n",
    "if __name__ == \"__main__\":\n",
    "    main()\n"
   ]
  },
  {
   "cell_type": "markdown",
   "id": "99367a16",
   "metadata": {},
   "source": [
    "This program defines a function is_prime that checks whether a given number is prime or not. The main function takes user input, calls the is_prime function, and prints the result. The try-except block is used to handle invalid input (non-integer values)."
   ]
  },
  {
   "cell_type": "markdown",
   "id": "7ed3d326",
   "metadata": {},
   "source": [
    "# 28. Create a program that sorts three numbers in ascending order using conditional statements."
   ]
  },
  {
   "cell_type": "code",
   "execution_count": 8,
   "id": "e7c89682",
   "metadata": {},
   "outputs": [
    {
     "name": "stdout",
     "output_type": "stream",
     "text": [
      "Enter the first number: 44\n",
      "Enter the second number: 223\n",
      "Enter the third number: 34\n",
      "Sorted numbers in ascending order: (34.0, 44.0, 223.0)\n"
     ]
    }
   ],
   "source": [
    "def sort_numbers(num1, num2, num3):\n",
    "    if num1 <= num2 and num1 <= num3:\n",
    "        smallest = num1\n",
    "        if num2 <= num3:\n",
    "            middle = num2\n",
    "            largest = num3\n",
    "        else:\n",
    "            middle = num3\n",
    "            largest = num2\n",
    "    elif num2 <= num1 and num2 <= num3:\n",
    "        smallest = num2\n",
    "        if num1 <= num3:\n",
    "            middle = num1\n",
    "            largest = num3\n",
    "        else:\n",
    "            middle = num3\n",
    "            largest = num1\n",
    "    else:\n",
    "        smallest = num3\n",
    "        if num1 <= num2:\n",
    "            middle = num1\n",
    "            largest = num2\n",
    "        else:\n",
    "            middle = num2\n",
    "            largest = num1\n",
    "\n",
    "    return smallest, middle, largest\n",
    "\n",
    "def main():\n",
    "    try:\n",
    "        num1 = float(input(\"Enter the first number: \"))\n",
    "        num2 = float(input(\"Enter the second number: \"))\n",
    "        num3 = float(input(\"Enter the third number: \"))\n",
    "        \n",
    "        sorted_numbers = sort_numbers(num1, num2, num3)\n",
    "        \n",
    "        print(\"Sorted numbers in ascending order:\", sorted_numbers)\n",
    "\n",
    "    except ValueError:\n",
    "        print(\"Invalid input. Please enter valid numbers.\")\n",
    "\n",
    "if __name__ == \"__main__\":\n",
    "    main()\n"
   ]
  },
  {
   "cell_type": "markdown",
   "id": "b4b0a052",
   "metadata": {},
   "source": [
    "This program defines a sort_numbers function that takes three numbers as input and returns them sorted in ascending order. The main function takes user input for three numbers, calls the sort_numbers function, and prints the result.\n",
    "\n",
    "The sorting is done using nested conditional statements, checking for the relationships between the numbers and assigning the smallest, middle, and largest accordingly. The sorted numbers are then returned as a tuple and printed in the main function.\n",
    "\n",
    "To use the program, run the script and enter three numbers when prompted. The program will then print the numbers in ascending order."
   ]
  },
  {
   "cell_type": "markdown",
   "id": "18c17aa1",
   "metadata": {},
   "source": [
    "# 29. Build a program that determines the roots of a quartic equation using numerical methods."
   ]
  },
  {
   "cell_type": "code",
   "execution_count": 1,
   "id": "2bdf7674",
   "metadata": {},
   "outputs": [
    {
     "name": "stdout",
     "output_type": "stream",
     "text": [
      "Enter coefficient 1: 1\n",
      "Enter coefficient 2: 2\n",
      "Enter coefficient 3: 3\n",
      "Enter coefficient 4: 1\n",
      "Enter coefficient 5: 3\n",
      "Enter an initial guess for the root: 3\n",
      "The root of the quartic equation is approximately: -5.070383206685843\n"
     ]
    }
   ],
   "source": [
    "def quartic_equation(x, coefficients):\n",
    "    \"\"\"\n",
    "    Evaluate the quartic equation at a given point x.\n",
    "    The equation has the form: ax^4 + bx^3 + cx^2 + dx + e\n",
    "    where coefficients = [a, b, c, d, e]\n",
    "    \"\"\"\n",
    "    a, b, c, d, e = coefficients\n",
    "    return a * x**4 + b * x**3 + c * x**2 + d * x + e\n",
    "\n",
    "def derivative_quartic(x, coefficients):\n",
    "    \"\"\"\n",
    "    Evaluate the derivative of the quartic equation at a given point x.\n",
    "    \"\"\"\n",
    "    a, b, c, d, e = coefficients\n",
    "    return 4 * a * x**3 + 3 * b * x**2 + 2 * c * x + d\n",
    "\n",
    "def newton_method_quartic(coefficients, initial_guess, tolerance=1e-6, max_iterations=100):\n",
    "    \"\"\"\n",
    "    Use Newton's method to find roots of the quartic equation.\n",
    "    \"\"\"\n",
    "    x = initial_guess\n",
    "\n",
    "    for iteration in range(max_iterations):\n",
    "        f_x = quartic_equation(x, coefficients)\n",
    "        f_prime_x = derivative_quartic(x, coefficients)\n",
    "\n",
    "        if abs(f_prime_x) < tolerance:\n",
    "            # Avoid division by a very small number\n",
    "            break\n",
    "\n",
    "        x = x - f_x / f_prime_x\n",
    "\n",
    "        if abs(f_x) < tolerance:\n",
    "            # Convergence reached\n",
    "            break\n",
    "\n",
    "    return x\n",
    "\n",
    "def main():\n",
    "    try:\n",
    "        # Get user input for the coefficients of the quartic equation\n",
    "        coefficients = [float(input(f\"Enter coefficient {i + 1}: \")) for i in range(5)]\n",
    "\n",
    "        # Get user input for the initial guess\n",
    "        initial_guess = float(input(\"Enter an initial guess for the root: \"))\n",
    "\n",
    "        # Find the root using Newton's method\n",
    "        root = newton_method_quartic(coefficients, initial_guess)\n",
    "\n",
    "        print(f\"The root of the quartic equation is approximately: {root}\")\n",
    "\n",
    "    except ValueError:\n",
    "        print(\"Invalid input. Please enter valid numeric coefficients and an initial guess.\")\n",
    "\n",
    "if __name__ == \"__main__\":\n",
    "    main()\n"
   ]
  },
  {
   "cell_type": "markdown",
   "id": "73554a7d",
   "metadata": {},
   "source": [
    "# 30. Write a program that calculates the BMI (Body Mass Index) and provides health recommendations based on the user's input.\n"
   ]
  },
  {
   "cell_type": "code",
   "execution_count": 4,
   "id": "2da5a616",
   "metadata": {},
   "outputs": [
    {
     "name": "stdout",
     "output_type": "stream",
     "text": [
      "Enter your weight in kilograms: 56\n",
      "Enter your height in meters: 5\n",
      "Your BMI is: 2.24\n",
      "Underweight: You may need to gain some weight. Consult with a healthcare professional.\n"
     ]
    }
   ],
   "source": [
    "def calculate_bmi(weight, height):\n",
    "    \"\"\"\n",
    "    Calculate BMI (Body Mass Index).\n",
    "    Formula: BMI = weight (kg) / (height (m) ^ 2)\n",
    "    \"\"\"\n",
    "    bmi = weight / (height ** 2)\n",
    "    return bmi\n",
    "\n",
    "def get_health_recommendation(bmi):\n",
    "    \"\"\"\n",
    "    Provide health recommendations based on BMI.\n",
    "    \"\"\"\n",
    "    if bmi < 18.5:\n",
    "        return \"Underweight: You may need to gain some weight. Consult with a healthcare professional.\"\n",
    "    elif 18.5 <= bmi < 25:\n",
    "        return \"Normal weight: Keep up the good work! Maintain a healthy lifestyle.\"\n",
    "    elif 25 <= bmi < 30:\n",
    "        return \"Overweight: Consider losing some weight for better health. Consult with a healthcare professional.\"\n",
    "    else:\n",
    "        return \"Obese: It's important to manage your weight for better health. Consult with a healthcare professional.\"\n",
    "\n",
    "def main():\n",
    "    try:\n",
    "        # Get user input for weight (in kilograms) and height (in meters)\n",
    "        weight = float(input(\"Enter your weight in kilograms: \"))\n",
    "        height = float(input(\"Enter your height in meters: \"))\n",
    "\n",
    "        # Calculate BMI\n",
    "        bmi = calculate_bmi(weight, height)\n",
    "\n",
    "        # Provide health recommendations based on BMI\n",
    "        recommendation = get_health_recommendation(bmi)\n",
    "\n",
    "        # Print the results\n",
    "        print(f\"Your BMI is: {bmi:.2f}\")\n",
    "        print(recommendation)\n",
    "\n",
    "    except ValueError:\n",
    "        # Handle invalid input (non-numeric input)\n",
    "        print(\"Invalid input. Please enter valid numeric values for weight and height.\")\n",
    "\n",
    "if __name__ == \"__main__\":\n",
    "    main()\n"
   ]
  },
  {
   "cell_type": "markdown",
   "id": "7843b1d1",
   "metadata": {},
   "source": [
    "To use the program, run the script and enter your weight and height when prompted. The program will then calculate your BMI and provide health recommendations based on the calculated value."
   ]
  },
  {
   "cell_type": "markdown",
   "id": "85a64b19",
   "metadata": {},
   "source": [
    "# 31. Create a program that validates a password based on complexity rules (length, characters, etc.)."
   ]
  },
  {
   "cell_type": "code",
   "execution_count": 2,
   "id": "40e4ad9c",
   "metadata": {},
   "outputs": [
    {
     "name": "stdout",
     "output_type": "stream",
     "text": [
      "Enter your password: Shah@7070\n",
      "Password is valid.\n"
     ]
    }
   ],
   "source": [
    "import re\n",
    "\n",
    "def is_valid_password(password):\n",
    "    # Check the length of the password\n",
    "    if len(password) < 8:\n",
    "        return False\n",
    "\n",
    "    # Check for at least one uppercase letter\n",
    "    if not any(char.isupper() for char in password):\n",
    "        return False\n",
    "\n",
    "    # Check for at least one lowercase letter\n",
    "    if not any(char.islower() for char in password):\n",
    "        return False\n",
    "\n",
    "    # Check for at least one digit\n",
    "    if not any(char.isdigit() for char in password):\n",
    "        return False\n",
    "\n",
    "    # Check for at least one special character\n",
    "    special_characters = re.compile('[@_!#$%^&*()<>?/\\|}{~:]')\n",
    "    if not any(special_characters.search(char) for char in password):\n",
    "        return False\n",
    "\n",
    "    # If all checks pass, the password is valid\n",
    "    return True\n",
    "\n",
    "def main():\n",
    "    try:\n",
    "        # Get user input for the password\n",
    "        password = input(\"Enter your password: \")\n",
    "\n",
    "        # Check if the password is valid\n",
    "        if is_valid_password(password):\n",
    "            print(\"Password is valid.\")\n",
    "        else:\n",
    "            print(\"Password is not valid. Please ensure it meets the complexity requirements.\")\n",
    "\n",
    "    except KeyboardInterrupt:\n",
    "        # Handle keyboard interrupt (Ctrl+C)\n",
    "        print(\"\\nProgram terminated by user.\")\n",
    "\n",
    "if __name__ == \"__main__\":\n",
    "    main()\n",
    "    "
   ]
  },
  {
   "cell_type": "markdown",
   "id": "119fabaf",
   "metadata": {},
   "source": [
    "To use the program, run the script and enter a password when prompted. The program will then check whether the password meets the specified complexity requirements and provide feedback accordingly"
   ]
  },
  {
   "cell_type": "markdown",
   "id": "0c705f93",
   "metadata": {},
   "source": [
    "# 32. Develop a program that performs matrix addition and subtraction based on user input."
   ]
  },
  {
   "cell_type": "code",
   "execution_count": null,
   "id": "be35411f",
   "metadata": {},
   "outputs": [
    {
     "name": "stdout",
     "output_type": "stream",
     "text": [
      "Enter the number of rows: 3\n",
      "Enter the number of columns: 3\n",
      "Enter elements for the first matrix:\n",
      "Enter element at position (1, 1): 5\n",
      "Enter element at position (1, 2): 3\n",
      "Enter element at position (1, 3): 5\n"
     ]
    }
   ],
   "source": [
    "def get_matrix(rows, cols):\n",
    "    \"\"\"\n",
    "    Get matrix input from the user.\n",
    "    \"\"\"\n",
    "    matrix = []\n",
    "    for i in range(rows):\n",
    "        row = []\n",
    "        for j in range(cols):\n",
    "            element = float(input(f\"Enter element at position ({i+1}, {j+1}): \"))\n",
    "            row.append(element)\n",
    "        matrix.append(row)\n",
    "    return matrix\n",
    "\n",
    "def add_matrices(matrix1, matrix2):\n",
    "    \"\"\"\n",
    "    Perform matrix addition.\n",
    "    \"\"\"\n",
    "    result = []\n",
    "    for i in range(len(matrix1)):\n",
    "        row = []\n",
    "        for j in range(len(matrix1[0])):\n",
    "            row.append(matrix1[i][j] + matrix2[i][j])\n",
    "        result.append(row)\n",
    "    return result\n",
    "\n",
    "def subtract_matrices(matrix1, matrix2):\n",
    "    \"\"\"\n",
    "    Perform matrix subtraction.\n",
    "    \"\"\"\n",
    "    result = []\n",
    "    for i in range(len(matrix1)):\n",
    "        row = []\n",
    "        for j in range(len(matrix1[0])):\n",
    "            row.append(matrix1[i][j] - matrix2[i][j])\n",
    "        result.append(row)\n",
    "    return result\n",
    "\n",
    "def display_matrix(matrix):\n",
    "    \"\"\"\n",
    "    Display the matrix.\n",
    "    \"\"\"\n",
    "    for row in matrix:\n",
    "        print(row)\n",
    "\n",
    "def main():\n",
    "    try:\n",
    "        # Get user input for matrix dimensions\n",
    "        rows = int(input(\"Enter the number of rows: \"))\n",
    "        cols = int(input(\"Enter the number of columns: \"))\n",
    "\n",
    "        # Get user input for the first matrix\n",
    "        print(\"Enter elements for the first matrix:\")\n",
    "        matrix1 = get_matrix(rows, cols)\n",
    "\n",
    "        # Get user input for the second matrix\n",
    "        print(\"Enter elements for the second matrix:\")\n",
    "        matrix2 = get_matrix(rows, cols)\n",
    "\n",
    "        # Perform matrix addition\n",
    "        sum_matrix = add_matrices(matrix1, matrix2)\n",
    "\n",
    "        # Perform matrix subtraction\n",
    "        difference_matrix = subtract_matrices(matrix1, matrix2)\n",
    "\n",
    "        # Display the results\n",
    "        print(\"\\nMatrix Addition Result:\")\n",
    "        display_matrix(sum_matrix)\n",
    "\n",
    "        print(\"\\nMatrix Subtraction Result:\")\n",
    "        display_matrix(difference_matrix)\n",
    "\n",
    "    except ValueError:\n",
    "        # Handle invalid input (non-numeric values)\n",
    "        print(\"Invalid input. Please enter valid numeric values.\")\n",
    "\n",
    "if __name__ == \"__main__\":\n",
    "    main()\n"
   ]
  },
  {
   "cell_type": "markdown",
   "id": "6889525a",
   "metadata": {},
   "source": [
    "To use the program, run the script and follow the prompts to enter the dimensions and elements of two matrices. The program will then perform matrix addition and subtraction and display the results.\n",
    "\n",
    "\n"
   ]
  },
  {
   "cell_type": "markdown",
   "id": "eb2c5043",
   "metadata": {},
   "source": [
    "# 33. Write a program that calculates the greatest common divisor (GCD) of two numbers using the Euclidean algorithm.\n"
   ]
  },
  {
   "cell_type": "code",
   "execution_count": 1,
   "id": "bf771bfa",
   "metadata": {},
   "outputs": [
    {
     "name": "stdout",
     "output_type": "stream",
     "text": [
      "Enter the first number: 4\n",
      "Enter the second number: 5\n",
      "The GCD of 4 and 5 is: 1\n"
     ]
    }
   ],
   "source": [
    "def euclidean_algorithm(a, b):\n",
    "    \"\"\"\n",
    "    Calculate the greatest common divisor (GCD) using the Euclidean algorithm.\n",
    "    \"\"\"\n",
    "    while b != 0:\n",
    "        a, b = b, a % b\n",
    "    return a\n",
    "\n",
    "def main():\n",
    "    try:\n",
    "        # Get user input for two numbers\n",
    "        num1 = int(input(\"Enter the first number: \"))\n",
    "        num2 = int(input(\"Enter the second number: \"))\n",
    "\n",
    "        # Calculate the GCD using the Euclidean algorithm\n",
    "        gcd = euclidean_algorithm(num1, num2)\n",
    "\n",
    "        # Display the result\n",
    "        print(f\"The GCD of {num1} and {num2} is: {gcd}\")\n",
    "\n",
    "    except ValueError:\n",
    "        # Handle invalid input (non-integer values)\n",
    "        print(\"Invalid input. Please enter valid integer values.\")\n",
    "\n",
    "if __name__ == \"__main__\":\n",
    "    main()\n"
   ]
  },
  {
   "cell_type": "markdown",
   "id": "fb89d34b",
   "metadata": {},
   "source": [
    "To use the program, run the script and enter two numbers when prompted. The program will then calculate and display the GCD using the Euclidean algorith"
   ]
  },
  {
   "cell_type": "markdown",
   "id": "7c159c31",
   "metadata": {},
   "source": [
    "# 34. Build a program that performs matrix multiplication using nested loops and conditional statements."
   ]
  },
  {
   "cell_type": "code",
   "execution_count": null,
   "id": "a56e6d34",
   "metadata": {},
   "outputs": [
    {
     "name": "stdout",
     "output_type": "stream",
     "text": [
      "Enter the number of rows for the first matrix: 3\n",
      "Enter the number of columns for the first matrix: 3\n",
      "Enter the number of rows for the second matrix: 3\n",
      "Enter the number of columns for the second matrix: 3\n",
      "Enter elements for the first matrix:\n",
      "Enter element at position (1, 1): 3\n",
      "Enter element at position (1, 2): 3\n"
     ]
    }
   ],
   "source": [
    "def matrix_multiplication(matrix1, matrix2):\n",
    "    \"\"\"\n",
    "    Perform matrix multiplication.\n",
    "    \"\"\"\n",
    "    rows1 = len(matrix1)\n",
    "    cols1 = len(matrix1[0])\n",
    "    rows2 = len(matrix2)\n",
    "    cols2 = len(matrix2[0])\n",
    "\n",
    "    # Check if matrices can be multiplied\n",
    "    if cols1 != rows2:\n",
    "        raise ValueError(\"Number of columns in the first matrix must be equal to the number of rows in the second matrix.\")\n",
    "\n",
    "    # Initialize the result matrix with zeros\n",
    "    result_matrix = [[0 for _ in range(cols2)] for _ in range(rows1)]\n",
    "\n",
    "    # Perform matrix multiplication\n",
    "    for i in range(rows1):\n",
    "        for j in range(cols2):\n",
    "            for k in range(cols1):\n",
    "                result_matrix[i][j] += matrix1[i][k] * matrix2[k][j]\n",
    "\n",
    "    return result_matrix\n",
    "\n",
    "def display_matrix(matrix):\n",
    "    \"\"\"\n",
    "    Display the matrix.\n",
    "    \"\"\"\n",
    "    for row in matrix:\n",
    "        print(row)\n",
    "\n",
    "def main():\n",
    "    try:\n",
    "        # Get user input for matrix dimensions\n",
    "        rows1 = int(input(\"Enter the number of rows for the first matrix: \"))\n",
    "        cols1 = int(input(\"Enter the number of columns for the first matrix: \"))\n",
    "        rows2 = int(input(\"Enter the number of rows for the second matrix: \"))\n",
    "        cols2 = int(input(\"Enter the number of columns for the second matrix: \"))\n",
    "\n",
    "        # Get user input for the first matrix\n",
    "        print(\"Enter elements for the first matrix:\")\n",
    "        matrix1 = [[float(input(f\"Enter element at position ({i+1}, {j+1}): \")) for j in range(cols1)] for i in range(rows1)]\n",
    "\n",
    "        # Get user input for the second matrix\n",
    "        print(\"Enter elements for the second matrix:\")\n",
    "        matrix2 = [[float(input(f\"Enter element at position ({i+1}, {j+1}): \")) for j in range(cols2)] for i in range(rows2)]\n",
    "\n",
    "        # Perform matrix multiplication\n",
    "        result_matrix = matrix_multiplication(matrix1, matrix2)\n",
    "\n",
    "        # Display the result\n",
    "        print(\"\\nMatrix Multiplication Result:\")\n",
    "        display_matrix(result_matrix)\n",
    "\n",
    "    except ValueError as e:\n",
    "        # Handle invalid input (non-numeric values or incompatible matrix dimensions)\n",
    "        print(f\"Invalid input: {e}\")\n",
    "\n",
    "if __name__ == \"__main__\":\n",
    "    main()\n"
   ]
  },
  {
   "cell_type": "markdown",
   "id": "8e227534",
   "metadata": {},
   "source": [
    "To use the program, run the script and follow the prompts to enter the dimensions and elements of two matrices. The program will then perform matrix multiplication and display the result."
   ]
  },
  {
   "cell_type": "markdown",
   "id": "20aada92",
   "metadata": {},
   "source": [
    "# 35. Create a program that simulates a basic text-based tic-tac-toe game against the computer."
   ]
  },
  {
   "cell_type": "code",
   "execution_count": null,
   "id": "b5313afe",
   "metadata": {},
   "outputs": [
    {
     "name": "stdout",
     "output_type": "stream",
     "text": [
      "Welcome to Tic-Tac-Toe!\n",
      "  |   |  \n",
      "---------\n",
      "  |   |  \n",
      "---------\n",
      "  |   |  \n",
      "---------\n",
      "Enter the row (1, 2, or 3): 2\n",
      "Enter the column (1, 2, or 3): 3\n",
      "\n",
      "Computer's move: Row 1, Column 3\n",
      "  |   | O\n",
      "---------\n",
      "  |   | X\n",
      "---------\n",
      "  |   |  \n",
      "---------\n"
     ]
    }
   ],
   "source": [
    "import random\n",
    "\n",
    "def print_board(board):\n",
    "    \"\"\"\n",
    "    Print the tic-tac-toe board.\n",
    "    \"\"\"\n",
    "    for row in board:\n",
    "        print(\" | \".join(row))\n",
    "        print(\"-\" * 9)\n",
    "\n",
    "def check_winner(board, player):\n",
    "    \"\"\"\n",
    "    Check if the specified player has won.\n",
    "    \"\"\"\n",
    "    # Check rows and columns\n",
    "    for i in range(3):\n",
    "        if all(board[i][j] == player for j in range(3)) or all(board[j][i] == player for j in range(3)):\n",
    "            return True\n",
    "\n",
    "    # Check diagonals\n",
    "    if all(board[i][i] == player for i in range(3)) or all(board[i][2 - i] == player for i in range(3)):\n",
    "        return True\n",
    "\n",
    "    return False\n",
    "\n",
    "def is_board_full(board):\n",
    "    \"\"\"\n",
    "    Check if the board is full.\n",
    "    \"\"\"\n",
    "    return all(board[i][j] != \" \" for i in range(3) for j in range(3))\n",
    "\n",
    "def get_player_move(board):\n",
    "    \"\"\"\n",
    "    Get the player's move.\n",
    "    \"\"\"\n",
    "    while True:\n",
    "        try:\n",
    "            row = int(input(\"Enter the row (1, 2, or 3): \")) - 1\n",
    "            col = int(input(\"Enter the column (1, 2, or 3): \")) - 1\n",
    "\n",
    "            if 0 <= row < 3 and 0 <= col < 3 and board[row][col] == \" \":\n",
    "                return row, col\n",
    "            else:\n",
    "                print(\"Invalid move. Please try again.\")\n",
    "\n",
    "        except ValueError:\n",
    "            print(\"Invalid input. Please enter a number.\")\n",
    "\n",
    "def get_computer_move(board):\n",
    "    \"\"\"\n",
    "    Get the computer's move (randomly generated).\n",
    "    \"\"\"\n",
    "    available_moves = [(i, j) for i in range(3) for j in range(3) if board[i][j] == \" \"]\n",
    "    return random.choice(available_moves)\n",
    "\n",
    "def main():\n",
    "    # Initialize the tic-tac-toe board\n",
    "    board = [[\" \" for _ in range(3)] for _ in range(3)]\n",
    "\n",
    "    print(\"Welcome to Tic-Tac-Toe!\")\n",
    "\n",
    "    while True:\n",
    "        # Player's move\n",
    "        print_board(board)\n",
    "        player_row, player_col = get_player_move(board)\n",
    "        board[player_row][player_col] = \"X\"\n",
    "\n",
    "        # Check if the player has won\n",
    "        if check_winner(board, \"X\"):\n",
    "            print_board(board)\n",
    "            print(\"Congratulations! You win!\")\n",
    "            break\n",
    "\n",
    "        # Check if the board is full (draw)\n",
    "        if is_board_full(board):\n",
    "            print_board(board)\n",
    "            print(\"It's a draw!\")\n",
    "            break\n",
    "\n",
    "        # Computer's move\n",
    "        computer_row, computer_col = get_computer_move(board)\n",
    "        print(f\"\\nComputer's move: Row {computer_row + 1}, Column {computer_col + 1}\")\n",
    "        board[computer_row][computer_col] = \"O\"\n",
    "\n",
    "        # Check if the computer has won\n",
    "        if check_winner(board, \"O\"):\n",
    "            print_board(board)\n",
    "            print(\"Computer wins! Better luck next time.\")\n",
    "            break\n",
    "\n",
    "if __name__ == \"__main__\":\n",
    "    main()\n"
   ]
  },
  {
   "cell_type": "markdown",
   "id": "d2f9ad8e",
   "metadata": {},
   "source": [
    "To play the game, run the script and follow the prompts to make your moves against the computer. The game will continue until there is a winner or a draw.\n",
    "\n",
    "\n",
    "\n",
    "\n",
    "\n"
   ]
  },
  {
   "cell_type": "markdown",
   "id": "a964d596",
   "metadata": {},
   "source": [
    "# 36. Write a program that generates Fibonacci numbers up to a specified term using iterative methods."
   ]
  },
  {
   "cell_type": "code",
   "execution_count": 3,
   "id": "e08d9ecf",
   "metadata": {},
   "outputs": [
    {
     "name": "stdout",
     "output_type": "stream",
     "text": [
      "Enter the number of Fibonacci terms to generate: 4\n",
      "Fibonacci sequence up to the 4th term:\n",
      "[0, 1, 1, 2]\n"
     ]
    }
   ],
   "source": [
    "def generate_fibonacci(n):\n",
    "    \"\"\"\n",
    "    Generate Fibonacci numbers up to the nth term using iterative methods.\n",
    "    \"\"\"\n",
    "    fibonacci_sequence = [0, 1]\n",
    "\n",
    "    for i in range(2, n):\n",
    "        next_term = fibonacci_sequence[-1] + fibonacci_sequence[-2]\n",
    "        fibonacci_sequence.append(next_term)\n",
    "\n",
    "    return fibonacci_sequence\n",
    "\n",
    "def main():\n",
    "    try:\n",
    "        # Get user input for the number of terms\n",
    "        n = int(input(\"Enter the number of Fibonacci terms to generate: \"))\n",
    "\n",
    "        # Check for valid input\n",
    "        if n <= 0:\n",
    "            print(\"Please enter a positive integer.\")\n",
    "            return\n",
    "\n",
    "        # Generate and display Fibonacci numbers\n",
    "        fibonacci_sequence = generate_fibonacci(n)\n",
    "        print(f\"Fibonacci sequence up to the {n}th term:\")\n",
    "        print(fibonacci_sequence)\n",
    "\n",
    "    except ValueError:\n",
    "        # Handle invalid input (non-integer values)\n",
    "        print(\"Invalid input. Please enter a positive integer.\")\n",
    "\n",
    "if __name__ == \"__main__\":\n",
    "    main()\n"
   ]
  },
  {
   "cell_type": "markdown",
   "id": "235dba6c",
   "metadata": {},
   "source": [
    "To use the program, run the script and enter the number of Fibonacci terms you want to generate when prompted. The program will then generate and display the Fibonacci sequence up to the specified term.\n",
    "\n",
    "\n",
    "\n",
    "\n",
    "\n"
   ]
  },
  {
   "cell_type": "markdown",
   "id": "01fa08f4",
   "metadata": {},
   "source": [
    "# 37. Develop a program that calculates the nth term of the Fibonacci sequence using memoization."
   ]
  },
  {
   "cell_type": "code",
   "execution_count": 4,
   "id": "84a853f7",
   "metadata": {},
   "outputs": [
    {
     "name": "stdout",
     "output_type": "stream",
     "text": [
      "Enter the value of n for the nth Fibonacci term: 6\n",
      "The 6th term of the Fibonacci sequence is: 8\n"
     ]
    }
   ],
   "source": [
    "def fibonacci_memoization(n, memo={}):\n",
    "    \"\"\"\n",
    "    Calculate the nth term of the Fibonacci sequence using memoization.\n",
    "    \"\"\"\n",
    "    if n <= 1:\n",
    "        return n\n",
    "\n",
    "    # Check if the result is already memoized\n",
    "    if n in memo:\n",
    "        return memo[n]\n",
    "\n",
    "    # Calculate the Fibonacci term and memoize the result\n",
    "    result = fibonacci_memoization(n - 1, memo) + fibonacci_memoization(n - 2, memo)\n",
    "    memo[n] = result\n",
    "    return result\n",
    "\n",
    "def main():\n",
    "    try:\n",
    "        # Get user input for the number of terms\n",
    "        n = int(input(\"Enter the value of n for the nth Fibonacci term: \"))\n",
    "\n",
    "        # Check for valid input\n",
    "        if n < 0:\n",
    "            print(\"Please enter a non-negative integer.\")\n",
    "            return\n",
    "\n",
    "        # Calculate and display the nth Fibonacci term using memoization\n",
    "        result = fibonacci_memoization(n)\n",
    "        print(f\"The {n}th term of the Fibonacci sequence is: {result}\")\n",
    "\n",
    "    except ValueError:\n",
    "        # Handle invalid input (non-integer values)\n",
    "        print(\"Invalid input. Please enter a non-negative integer.\")\n",
    "\n",
    "if __name__ == \"__main__\":\n",
    "    main()\n"
   ]
  },
  {
   "cell_type": "markdown",
   "id": "d648fdd4",
   "metadata": {},
   "source": [
    "To use the program, run the script and enter the value of n for the nth Fibonacci term when prompted. The program will then calculate and display the nth term using memoization."
   ]
  },
  {
   "cell_type": "markdown",
   "id": "1326ebfc",
   "metadata": {},
   "source": [
    "# 38. Create a program that generates a calendar for a given month and year using conditional statements."
   ]
  },
  {
   "cell_type": "code",
   "execution_count": 5,
   "id": "c5f2699c",
   "metadata": {},
   "outputs": [
    {
     "name": "stdout",
     "output_type": "stream",
     "text": [
      "Enter the year: 2003\n",
      "Enter the month (1-12): 8\n",
      "Calendar for August 2003\n",
      "\n",
      "Mo Tu We Th Fr Sa Su\n",
      "                 1   2   3  \n",
      " 4   5   6   7   8   9  10  \n",
      "11  12  13  14  15  16  17  \n",
      "18  19  20  21  22  23  24  \n",
      "25  26  27  28  29  30  31  \n"
     ]
    }
   ],
   "source": [
    "import calendar\n",
    "\n",
    "def generate_calendar(year, month):\n",
    "    \"\"\"\n",
    "    Generate a calendar for a given month and year.\n",
    "    \"\"\"\n",
    "    cal = calendar.monthcalendar(year, month)\n",
    "\n",
    "    # Print the header\n",
    "    print(f\"Calendar for {calendar.month_name[month]} {year}\\n\")\n",
    "    print(\"Mo Tu We Th Fr Sa Su\")\n",
    "\n",
    "    # Print each week in the calendar\n",
    "    for week in cal:\n",
    "        for day in week:\n",
    "            if day == 0:\n",
    "                print(\"   \", end=\" \")  # Print empty space for days outside the month\n",
    "            else:\n",
    "                print(f\"{day:2d} \", end=\" \")\n",
    "        print()  # Move to the next line after printing a week\n",
    "\n",
    "def main():\n",
    "    try:\n",
    "        # Get user input for the year and month\n",
    "        year = int(input(\"Enter the year: \"))\n",
    "        month = int(input(\"Enter the month (1-12): \"))\n",
    "\n",
    "        # Check for valid input\n",
    "        if not (1 <= month <= 12):\n",
    "            print(\"Invalid month. Please enter a month between 1 and 12.\")\n",
    "            return\n",
    "\n",
    "        # Generate and display the calendar\n",
    "        generate_calendar(year, month)\n",
    "\n",
    "    except ValueError:\n",
    "        # Handle invalid input (non-integer values)\n",
    "        print(\"Invalid input. Please enter valid integer values.\")\n",
    "\n",
    "if __name__ == \"__main__\":\n",
    "    main()\n"
   ]
  },
  {
   "cell_type": "markdown",
   "id": "67b99f95",
   "metadata": {},
   "source": [
    "To use the program, run the script and enter the year and month when prompted. The program will then generate and display the calendar for the specified month and year."
   ]
  },
  {
   "cell_type": "markdown",
   "id": "654b9abc",
   "metadata": {},
   "source": [
    "# 39. Build a program that simulates a basic text-based blackjack game against the computer."
   ]
  },
  {
   "cell_type": "code",
   "execution_count": 6,
   "id": "29f2851a",
   "metadata": {},
   "outputs": [
    {
     "name": "stdout",
     "output_type": "stream",
     "text": [
      "Your cards: [8, 2], current score: 10\n",
      "Computer's first card: 8\n",
      "Type 'y' to get another card, 'n' to pass: 232\n",
      "Your final hand: [8, 2], final score: 10\n",
      "Computer's final hand: [8, 5, 10], final score: 23\n",
      "Computer went over 21. You win!\n"
     ]
    }
   ],
   "source": [
    "import random\n",
    "\n",
    "def deal_card():\n",
    "    \"\"\"\n",
    "    Deal a random card from the deck.\n",
    "    \"\"\"\n",
    "    cards = [2, 3, 4, 5, 6, 7, 8, 9, 10, 10, 10, 10, 11]\n",
    "    return random.choice(cards)\n",
    "\n",
    "def calculate_score(cards):\n",
    "    \"\"\"\n",
    "    Calculate the total score of a hand.\n",
    "    \"\"\"\n",
    "    if sum(cards) == 21 and len(cards) == 2:\n",
    "        return 0  # Blackjack\n",
    "\n",
    "    if 11 in cards and sum(cards) > 21:\n",
    "        cards.remove(11)\n",
    "        cards.append(1)\n",
    "\n",
    "    return sum(cards)\n",
    "\n",
    "def compare(user_score, computer_score):\n",
    "    \"\"\"\n",
    "    Compare the scores and determine the winner.\n",
    "    \"\"\"\n",
    "    if user_score == computer_score:\n",
    "        return \"It's a draw!\"\n",
    "    elif computer_score == 0:\n",
    "        return \"Computer has Blackjack. You lose!\"\n",
    "    elif user_score == 0:\n",
    "        return \"Blackjack! You win!\"\n",
    "    elif user_score > 21:\n",
    "        return \"You went over 21. You lose!\"\n",
    "    elif computer_score > 21:\n",
    "        return \"Computer went over 21. You win!\"\n",
    "    elif user_score > computer_score:\n",
    "        return \"You win!\"\n",
    "    else:\n",
    "        return \"You lose!\"\n",
    "\n",
    "def play_game():\n",
    "    user_cards = []\n",
    "    computer_cards = []\n",
    "    is_game_over = False\n",
    "\n",
    "    for _ in range(2):\n",
    "        user_cards.append(deal_card())\n",
    "        computer_cards.append(deal_card())\n",
    "\n",
    "    while not is_game_over:\n",
    "        user_score = calculate_score(user_cards)\n",
    "        computer_score = calculate_score(computer_cards)\n",
    "\n",
    "        print(f\"Your cards: {user_cards}, current score: {user_score}\")\n",
    "        print(f\"Computer's first card: {computer_cards[0]}\")\n",
    "\n",
    "        if user_score == 0 or computer_score == 0 or user_score > 21:\n",
    "            is_game_over = True\n",
    "        else:\n",
    "            user_should_continue = input(\"Type 'y' to get another card, 'n' to pass: \").lower()\n",
    "            if user_should_continue == 'y':\n",
    "                user_cards.append(deal_card())\n",
    "            else:\n",
    "                is_game_over = True\n",
    "\n",
    "    while computer_score != 0 and computer_score < 17:\n",
    "        computer_cards.append(deal_card())\n",
    "        computer_score = calculate_score(computer_cards)\n",
    "\n",
    "    print(f\"Your final hand: {user_cards}, final score: {user_score}\")\n",
    "    print(f\"Computer's final hand: {computer_cards}, final score: {computer_score}\")\n",
    "    print(compare(user_score, computer_score))\n",
    "\n",
    "# Run the game\n",
    "play_game()\n"
   ]
  },
  {
   "cell_type": "markdown",
   "id": "0a7f8e0c",
   "metadata": {},
   "source": [
    "This program simulates a basic text-based Blackjack game where the user plays against the computer. The game uses a simplified deck of cards, and the goal is to get as close to 21 points as possible without exceeding it. The computer follows a simple rule of taking cards until it has a score of 17 or higher.\n",
    "\n",
    "\n",
    "\n",
    "\n",
    "\n"
   ]
  },
  {
   "cell_type": "markdown",
   "id": "402370d2",
   "metadata": {},
   "source": [
    "# 40. Write a program that generates the prime factors of a given number using trial division."
   ]
  },
  {
   "cell_type": "code",
   "execution_count": 7,
   "id": "7bd4b8ce",
   "metadata": {},
   "outputs": [
    {
     "name": "stdout",
     "output_type": "stream",
     "text": [
      "Enter a positive integer: 4\n",
      "Prime factors of 4: [2, 2]\n"
     ]
    }
   ],
   "source": [
    "def generate_prime_factors(number):\n",
    "    \"\"\"\n",
    "    Generate the prime factors of a given number using trial division.\n",
    "    \"\"\"\n",
    "    prime_factors = []\n",
    "    divisor = 2\n",
    "\n",
    "    while divisor <= number:\n",
    "        if number % divisor == 0:\n",
    "            prime_factors.append(divisor)\n",
    "            number //= divisor\n",
    "        else:\n",
    "            divisor += 1\n",
    "\n",
    "    return prime_factors\n",
    "\n",
    "def main():\n",
    "    try:\n",
    "        # Get user input for the number\n",
    "        number = int(input(\"Enter a positive integer: \"))\n",
    "\n",
    "        # Check for valid input\n",
    "        if number <= 0:\n",
    "            print(\"Please enter a positive integer.\")\n",
    "            return\n",
    "\n",
    "        # Generate and display the prime factors\n",
    "        factors = generate_prime_factors(number)\n",
    "        print(f\"Prime factors of {number}: {factors}\")\n",
    "\n",
    "    except ValueError:\n",
    "        # Handle invalid input (non-integer values)\n",
    "        print(\"Invalid input. Please enter a positive integer.\")\n",
    "\n",
    "if __name__ == \"__main__\":\n",
    "    main()\n"
   ]
  },
  {
   "cell_type": "markdown",
   "id": "874f68e2",
   "metadata": {},
   "source": [
    "To use the program, run the script and enter a positive integer when prompted. The program will then generate and display the prime factors of the specified number using trial division.\n",
    "\n",
    "\n",
    "\n",
    "\n",
    "\n"
   ]
  },
  {
   "cell_type": "markdown",
   "id": "50fc148b",
   "metadata": {},
   "source": [
    "# THANK YOU"
   ]
  }
 ],
 "metadata": {
  "kernelspec": {
   "display_name": "Python 3 (ipykernel)",
   "language": "python",
   "name": "python3"
  },
  "language_info": {
   "codemirror_mode": {
    "name": "ipython",
    "version": 3
   },
   "file_extension": ".py",
   "mimetype": "text/x-python",
   "name": "python",
   "nbconvert_exporter": "python",
   "pygments_lexer": "ipython3",
   "version": "3.11.5"
  }
 },
 "nbformat": 4,
 "nbformat_minor": 5
}
